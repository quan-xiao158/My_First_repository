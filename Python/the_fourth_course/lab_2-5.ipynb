{
 "cells": [
  {
   "cell_type": "code",
   "execution_count": 1,
   "metadata": {},
   "outputs": [
    {
     "name": "stdout",
     "output_type": "stream",
     "text": [
      "Weights = [0.383 4.652 1.017 2.622]\n",
      "Bias = 16.027\n"
     ]
    },
    {
     "data": {
      "image/png": "[encoded data removed]",
      "text/plain": [
       "<Figure size 432x288 with 1 Axes>"
      ]
     },
     "metadata": {
      "needs_background": "light"
     },
     "output_type": "display_data"
    },
    {
     "name": "stdout",
     "output_type": "stream",
     "text": [
      "Trainset RMSE = 0.879\n",
      "Testset RMSE = 0.655\n"
     ]
    }
   ],
   "source": [
    "# Textbook: Principles and Practices of Machine Learning\n",
    "# Lab 2-5: linear regression, batch, feature scaling\n",
    "# Author: Zhe Chen (ml_iot@163.com), 2021\n",
    "\n",
    "import pandas\n",
    "import numpy as np\n",
    "import matplotlib.pyplot as plt\n",
    "\n",
    "# parameters\n",
    "iterations = 1000 # number of iterations for training\n",
    "learning_rate = 0.1 # learning rate\n",
    "m_train = 3000 # number of samples for training\n",
    "flag_fs = 'std' # feature scaling: 'std', 'norm_minmax', 'norm_mean', or 'none'\n",
    "\n",
    "# load dataset\n",
    "df = pandas.read_csv('temperature_dataset.csv')\n",
    "data = np.array(df)\n",
    "m_all = np.shape(data)[0] # number of samples \n",
    "d = np.shape(data)[1] - 1 # dimension of input features\n",
    "m_test = m_all - m_train # number of samples for testing\n",
    "\n",
    "# feature scaling\n",
    "if flag_fs == 'std': # standardization\n",
    "    mean = np.mean(data[0:m_train, 1:], axis=0)\n",
    "    std = np.std(data[0:m_train, 1:], axis=0, ddof=1)\n",
    "    data[:, 1:] = (data[:, 1:] - mean) / std\n",
    "elif flag_fs == 'norm_minmax': # min-max normalization\n",
    "    xmin = np.amin(data[0:m_train, 1:], axis=0)\n",
    "    xmax = np.amax(data[0:m_train, 1:], axis=0)\n",
    "    data[:, 1:] = (data[:, 1:] - xmin) / (xmax - xmin)\n",
    "elif flag_fs == 'norm_mean': # mean normalization\n",
    "    xmin = np.amin(data[0:m_train, 1:], axis=0)\n",
    "    xmax = np.amax(data[0:m_train, 1:], axis=0)\n",
    "    mean = np.mean(data[0:m_train, 1:], axis=0)\n",
    "    data[:, 1:] = (data[:, 1:] - mean) / (xmax - xmin)\n",
    "\n",
    "# split dataset\n",
    "X_train = data[0:m_train, 1:].T # d by m_train\n",
    "X_test = data[m_train:, 1:].T # d by m_test\n",
    "y_train = data[0:m_train, 0].reshape((1, -1)) # 1 by m_train\n",
    "y_test = data[m_train:, 0].reshape((1, -1)) # 1 by m_test\n",
    "\n",
    "# initialization\n",
    "w = np.zeros((d, 1)).reshape((-1, 1)) # weights, d by 1\n",
    "b = 0 # bias, scalar\n",
    "v = np.ones((1, m_train)) # constant ones, 1 by m_train\n",
    "costs_saved = [] # for saving costs\n",
    "\n",
    "# loop for iterations\n",
    "for i in range(iterations):\n",
    "    \n",
    "    # update w,b\n",
    "    y_hat = np.dot(w.T, X_train) + b * v\n",
    "    e = y_hat - y_train\n",
    "    b = b - 2. * learning_rate * np.dot(v, e.T) / m_train\n",
    "    w = w - 2. * learning_rate * np.dot(X_train, e.T) / m_train\n",
    "    \n",
    "    # save costs\n",
    "    costs = np.dot(e, e.T) / m_train\n",
    "    costs_saved.append(costs.item(0))\n",
    "    \n",
    "# print final weights\n",
    "print('Weights =', np.array2string(np.squeeze(w, axis=1), precision=3))\n",
    "print(f'Bias = {b.item(0):.3f}')\n",
    "\n",
    "# plot costs\n",
    "plt.plot(range(1, np.size(costs_saved) + 1), costs_saved, 'r-o', linewidth=2, markersize=5)\n",
    "plt.ylabel('Costs')\n",
    "plt.xlabel('Iterations')\n",
    "plt.title('Learning rate = ' + str(learning_rate))\n",
    "plt.show()\n",
    "\n",
    "# trainset RMSE\n",
    "y_hat = np.dot(w.T, X_train) + b * v\n",
    "e = y_hat - y_train\n",
    "mse = np.dot(e, e.T) / m_train\n",
    "rmse = np.sqrt(mse)\n",
    "print(f'Trainset RMSE = {rmse.item(0):.3f}')\n",
    "\n",
    "# testset RMSE\n",
    "y_hat_test = np.dot(w.T, X_test) + b # broadcasting here\n",
    "e_test = y_hat_test - y_test\n",
    "mse_test = np.dot(e_test, e_test.T) / m_test\n",
    "rmse_test = np.sqrt(mse_test)\n",
    "print(f'Testset RMSE = {rmse_test.item(0):.3f}')\n"
   ]
  }
 ],
 "metadata": {
  "kernelspec": {
   "display_name": "Python 3.10.4 64-bit",
   "language": "python",
   "name": "python3"
  },
  "language_info": {
   "codemirror_mode": {
    "name": "ipython",
    "version": 3
   },
   "file_extension": ".py",
   "mimetype": "text/x-python",
   "name": "python",
   "nbconvert_exporter": "python",
   "pygments_lexer": "ipython3",
   "version": "3.10.4"
  },
  "vscode": {
   "interpreter": {
    "hash": "4427aa4675692e3fe9bd7f53bad25d4adbcf00d19d908098b8576cd166a1ee56"
   }
  }
 },
 "nbformat": 4,
 "nbformat_minor": 4
}
