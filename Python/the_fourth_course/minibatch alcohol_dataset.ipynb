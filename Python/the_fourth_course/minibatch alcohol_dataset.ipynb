{
 "cells": [
  {
   "cell_type": "code",
   "execution_count": 4,
   "metadata": {},
   "outputs": [
    {
     "name": "stdout",
     "output_type": "stream",
     "text": [
      "[[ 0.09028869]\n",
      " [-0.19880285]\n",
      " [-0.19759595]\n",
      " [-0.18006704]\n",
      " [ 0.05003299]] [[-0.00839392]]\n",
      "142 108\n"
     ]
    },
    {
     "data": {
      "image/png": "[encoded data removed]",
      "text/plain": [
       "<Figure size 640x480 with 1 Axes>"
      ]
     },
     "metadata": {},
     "output_type": "display_data"
    }
   ],
   "source": [
    "# Textbook: Principles and Practices of Machine Learning\n",
    "# Alcohol dataset\n",
    "# Author: Zhe Chen (ml_iot@163.com), 2021\n",
    "import pandas\n",
    "import numpy as np\n",
    "import matplotlib.pyplot as plt\n",
    "# load dataset\n",
    "df = pandas.read_csv(r'E:\\Study\\Python\\the_fourth_course\\alcohol_dataset.csv')\n",
    "data = np.array(df)\n",
    "learn_rate=0.1\n",
    "iteration=1000\n",
    "m_all=np.shape(data)[0]\n",
    "m_train=250\n",
    "m_test=m_all-m_train\n",
    "d=np.shape(data)[1] - 1\n",
    "eopochs=1000\n",
    "batch=20\n",
    "#特征缩放\n",
    "'''\n",
    "x_mean=np.mean(data[:,:d],axis=0)\n",
    "x_std=np.std(data[:,:d],axis=0,ddof=0)\n",
    "data[:,:d]=(data[:,:d]-x_mean)/x_std'''\n",
    "train_set=data[:m_train,:]\n",
    "#划分测试集和训练集\n",
    "rng=np.random.default_rng(1)\n",
    "rng.shuffle(data,axis=0)\n",
    "x_train=data[:m_train,:d].T\n",
    "x_test=data[m_train:,:d].T\n",
    "y_train=data[:m_train,d].reshape(1,-1)\n",
    "y_test=data[m_train:,d].reshape(1,-1)\n",
    "\n",
    "#训练参数\n",
    "w=np.zeros((1,d)).reshape(-1,1)\n",
    "b=0\n",
    "cost_saved=[]\n",
    "#训练\n",
    "for j in range(0,eopochs):\n",
    "    rng.shuffle(train_set)\n",
    "    for i in range(0,m_train,batch):\n",
    "        batch=min([m_train-i,batch])\n",
    "        x=train_set[i:i+batch,:d].T\n",
    "        y=train_set[i:i+batch,d].reshape(1,-1)\n",
    "        y_hat=np.exp(np.dot(w.T,x)+b)/(1+np.exp(np.dot(w.T,x)+b))\n",
    "        e=y_hat-y\n",
    "        w=w-2*learn_rate*np.dot(x,(y_hat*(1-y_hat)*e).T)/batch\n",
    "        b=b-2*learn_rate*np.dot((y_hat*(1-y_hat)),e.T)/batch\n",
    "        cost=np.dot(e,e.T)/batch\n",
    "        cost_saved.append(cost.item(0))\n",
    "        \n",
    "y_hat=np.exp(np.dot(w.T,x_train+b)/(1+np.exp(np.dot(w.T,x_train)+b)))\n",
    "y_hat=np.squeeze(y_hat)\n",
    "y_train=np.squeeze(y_train)\n",
    "true_number=0\n",
    "false_number=0\n",
    "print(w,b)\n",
    "for i in range(m_train):\n",
    "    if y_hat[i]>=0.5 and y_train[i]==1 or y_hat[i]<0.5 and y_train[i]==0:\n",
    "        true_number+=1\n",
    "    else:false_number+=1\n",
    "print(true_number,false_number)\n",
    "\n",
    "\n",
    "plt.plot(range(1,len(cost_saved)+1),cost_saved)\n",
    "plt.show()"
   ]
  }
 ],
 "metadata": {
  "kernelspec": {
   "display_name": "Python 3.10.4 64-bit",
   "language": "python",
   "name": "python3"
  },
  "language_info": {
   "codemirror_mode": {
    "name": "ipython",
    "version": 3
   },
   "file_extension": ".py",
   "mimetype": "text/x-python",
   "name": "python",
   "nbconvert_exporter": "python",
   "pygments_lexer": "ipython3",
   "version": "3.10.4"
  },
  "orig_nbformat": 4,
  "vscode": {
   "interpreter": {
    "hash": "4427aa4675692e3fe9bd7f53bad25d4adbcf00d19d908098b8576cd166a1ee56"
   }
  }
 },
 "nbformat": 4,
 "nbformat_minor": 2
}
