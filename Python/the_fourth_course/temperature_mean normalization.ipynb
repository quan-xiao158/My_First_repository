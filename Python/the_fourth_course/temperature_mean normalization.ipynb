{
 "cells": [
  {
   "cell_type": "code",
   "execution_count": null,
   "metadata": {},
   "outputs": [],
   "source": [
    "#coding=utf-8\n",
    "from tkinter import E, Y\n",
    "import numpy as np\n",
    "import pandas\n",
    "import matplotlib.pyplot as plt \n",
    "\n",
    "learning_rate=0.1\n",
    "train_number=3000\n",
    "iteration=20\n",
    "df=pandas.read_csv(r'E:\\Study\\Python\\the_fourth_course\\temperature_dataset.csv',header=None)\n",
    "data=np.array(df)\n",
    "d=data.shape[1]-1 \n",
    "#特征缩放（均值归一化）\n",
    "\n",
    "\n",
    "\n",
    "\n",
    "x_train=data[:train_number,1:].T\n",
    "y_train=data[:train_number,0].T\n",
    "x_test=data[train_number:,1:].T\n",
    "y_test=data[train_number:,0].T\n",
    "w=np.zeros((1,d)).reshape(-1,1)\n",
    "b=0\n",
    "v=np.ones((1,train_number)).reshape(train_number,1)\n",
    "cost_saved=[]\n",
    "cost=0\n",
    "\n",
    "for i in range(0,iteration):\n",
    "    y_hat=np.dot(w.T,x_train)+b\n",
    "    e=y_hat-y_train\n",
    "    w=w-learning_rate*np.dot(x_train,e.T)*2/train_number\n",
    "    b=b-learning_rate*np.dot(e,v)*2/train_number\n",
    "    cost=np.dot(e,e.T)\n",
    "    cost_saved.append(cost.item(0))\n",
    "\n",
    "\n",
    "plt.plot(range(1,iteration+1),cost_saved)\n",
    "plt.show()\n"
   ]
  }
 ],
 "metadata": {
  "kernelspec": {
   "display_name": "Python 3.10.4 64-bit",
   "language": "python",
   "name": "python3"
  },
  "language_info": {
   "name": "python",
   "version": "3.10.4"
  },
  "orig_nbformat": 4,
  "vscode": {
   "interpreter": {
    "hash": "4427aa4675692e3fe9bd7f53bad25d4adbcf00d19d908098b8576cd166a1ee56"
   }
  }
 },
 "nbformat": 4,
 "nbformat_minor": 2
}
