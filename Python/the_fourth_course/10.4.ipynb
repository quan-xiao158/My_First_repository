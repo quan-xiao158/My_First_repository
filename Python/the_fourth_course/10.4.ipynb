{
 "cells": [
  {
   "cell_type": "code",
   "execution_count": null,
   "metadata": {},
   "outputs": [],
   "source": [
    "import pandas\n",
    "import numpy as np\n",
    "import matplotlib.pyplot as plt\n",
    "x=[]\n",
    "for i in range (50,71):\n",
    "    x.append(i)\n",
    "x_train=np.array(x).reshape((-1,1)).T\n",
    "'''\n",
    "y_train_0=[0]*10\n",
    "y_train_1=[1]*10\n",
    "y_train=np.array(y_train_0+y_train_1).reshape((1,-1))\n",
    "\n",
    "w=0\n",
    "b=0\n",
    "learning_rate=0.001\n",
    "iteration=20\n",
    "v=np.ones((20,1))\n",
    "cost_saved=[]\n",
    "for i in range(iteration):\n",
    "    y_hat=w*x_train+b\n",
    "    e=y_hat-y_train\n",
    "    w=w-2*learning_rate*x_train*e.T\n",
    "    b=b-2*learning_rate*np.dot(e,v)\n",
    "    cost=np.dot(e,e.T)\n",
    "    cost_saved.append(cost.item(0))\n",
    "plt.plot(range(20),cost_saved)\n",
    "plt.show()\n",
    "\n",
    "'''"
   ]
  }
 ],
 "metadata": {
  "kernelspec": {
   "display_name": "Python 3.10.4 64-bit",
   "language": "python",
   "name": "python3"
  },
  "language_info": {
   "name": "python",
   "version": "3.10.4"
  },
  "orig_nbformat": 4,
  "vscode": {
   "interpreter": {
    "hash": "4427aa4675692e3fe9bd7f53bad25d4adbcf00d19d908098b8576cd166a1ee56"
   }
  }
 },
 "nbformat": 4,
 "nbformat_minor": 2
}
