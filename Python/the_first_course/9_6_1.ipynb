{
 "cells": [
  {
   "cell_type": "code",
   "execution_count": null,
   "metadata": {},
   "outputs": [],
   "source": [
    "import time\n",
    "sum=0\n",
    "c=time.perf_counter()\n",
    "count=0\n",
    "a=list(range (0,1000))\n",
    "b=list(range (1000,2000))\n",
    "for i in range(0,1000):\n",
    "    sum=sum+a[i]*b[i]\n",
    "print(sum)\n",
    "print(time.perf_counter()-c)\n"
   ]
  }
 ],
 "metadata": {
  "kernelspec": {
   "display_name": "Python 3.10.4 64-bit",
   "language": "python",
   "name": "python3"
  },
  "language_info": {
   "name": "python",
   "version": "3.10.4"
  },
  "orig_nbformat": 4,
  "vscode": {
   "interpreter": {
    "hash": "4427aa4675692e3fe9bd7f53bad25d4adbcf00d19d908098b8576cd166a1ee56"
   }
  }
 },
 "nbformat": 4,
 "nbformat_minor": 2
}
