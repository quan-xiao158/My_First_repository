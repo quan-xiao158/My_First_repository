{
 "cells": [
  {
   "cell_type": "code",
   "execution_count": 3,
   "metadata": {
    "scrolled": false
   },
   "outputs": [
    {
     "name": "stdout",
     "output_type": "stream",
     "text": [
      "Weights = [0.17  0.381 0.151 0.27 ]\n",
      "Bias = 0.042\n"
     ]
    },
    {
     "data": {
      "image/png": "[encoded data removed]",
      "text/plain": [
       "<Figure size 640x480 with 1 Axes>"
      ]
     },
     "metadata": {},
     "output_type": "display_data"
    },
    {
     "name": "stdout",
     "output_type": "stream",
     "text": [
      "Trainset RMSE = 0.972\n",
      "Testset RMSE = 0.942\n"
     ]
    }
   ],
   "source": [
    "# Textbook: Principles and Practices of Machine Learning\n",
    "# Lab 2-3: linear regression (train + test), stochastic\n",
    "# Author: Zhe Chen (ml_iot@163.com), 2021\n",
    "\n",
    "import pandas\n",
    "import numpy as np\n",
    "import matplotlib.pyplot as plt\n",
    "\n",
    "# parameters\n",
    "epochs = 1 # number of epochs for training\n",
    "learning_rate = 0.0001 # learning rate\n",
    "m_train = 3000 # number of samples for training\n",
    "\n",
    "# construct a random number generator with given seed\n",
    "rng = np.random.default_rng(1)\n",
    "\n",
    "# load dataset\n",
    "df = pandas.read_csv('temperature_dataset.csv')\n",
    "data = np.array(df)\n",
    "m_all = np.shape(data)[0] # number of samples \n",
    "d = np.shape(data)[1] - 1 # dimension of input features\n",
    "m_test = m_all - m_train # number of samples for testing\n",
    "\n",
    "# split dataset\n",
    "X_train = data[0:m_train, 1:].T # d by m_train\n",
    "y_train = data[0:m_train, 0].reshape((1,-1)) # 1 by m_train\n",
    "X_test = data[m_train:, 1:].T # d by m_test\n",
    "y_test = data[m_train:, 0].reshape((1,-1)) # 1 by m_test\n",
    "train_set = data[0:m_train, :] # training dataset\n",
    "\n",
    "# initialization\n",
    "w = np.zeros((d, 1)).reshape((-1, 1)) # weights, d by 1\n",
    "b = 0 # bias, scalar\n",
    "costs_saved = [] # for saving costs\n",
    "\n",
    "# loop for each epoch\n",
    "for epoch in range(epochs):\n",
    "    \n",
    "    # shuffle the training dataset for each epoch\n",
    "    rng.shuffle(train_set)\n",
    "\n",
    "    # loop for each sample\n",
    "    for i in range(m_train):\n",
    "        \n",
    "        # prepare a training sample\n",
    "        x = train_set[i, 1:].reshape((-1, 1))\n",
    "        y = train_set[i, 0]\n",
    "\n",
    "        # update w,b\n",
    "        y_hat = np.dot(w.T, x) + b\n",
    "        e = y_hat - y\n",
    "        b = b - 2. * learning_rate * e\n",
    "        w = w - 2. * learning_rate * e * x\n",
    "\n",
    "        # save costs\n",
    "        costs = e ** 2\n",
    "        costs_saved.append(costs.item(0))\n",
    "    \n",
    "# print final weights\n",
    "print('Weights =', np.array2string(np.squeeze(w, axis=1), precision=3))\n",
    "print(f'Bias = {b.item(0):.3f}')\n",
    "\n",
    "# plot costs\n",
    "plt.plot(range(1, np.size(costs_saved) + 1), costs_saved, 'r-o', linewidth=2, markersize=5)\n",
    "plt.ylabel('Costs')\n",
    "plt.xlabel('Iterations')\n",
    "plt.title('Learning rate = ' + str(learning_rate))\n",
    "plt.show()\n",
    "\n",
    "# trainset RMSE\n",
    "y_hat = np.dot(w.T, X_train) + b # broadcasting\n",
    "e = y_hat - y_train\n",
    "mse = np.dot(e, e.T) / m_train\n",
    "rmse = np.sqrt(mse)\n",
    "print(f'Trainset RMSE = {rmse.item(0):.3f}')\n",
    "\n",
    "# testset RMSE\n",
    "y_hat_test = np.dot(w.T, X_test) + b # broadcasting\n",
    "e_test = y_hat_test - y_test\n",
    "mse_test = np.dot(e_test, e_test.T) / m_test\n",
    "rmse_test = np.sqrt(mse_test)\n",
    "print(f'Testset RMSE = {rmse_test.item(0):.3f}')\n"
   ]
  }
 ],
 "metadata": {
  "kernelspec": {
   "display_name": "Python 3.10.4 64-bit",
   "language": "python",
   "name": "python3"
  },
  "language_info": {
   "codemirror_mode": {
    "name": "ipython",
    "version": 3
   },
   "file_extension": ".py",
   "mimetype": "text/x-python",
   "name": "python",
   "nbconvert_exporter": "python",
   "pygments_lexer": "ipython3",
   "version": "3.10.4"
  },
  "vscode": {
   "interpreter": {
    "hash": "4427aa4675692e3fe9bd7f53bad25d4adbcf00d19d908098b8576cd166a1ee56"
   }
  }
 },
 "nbformat": 4,
 "nbformat_minor": 4
}
