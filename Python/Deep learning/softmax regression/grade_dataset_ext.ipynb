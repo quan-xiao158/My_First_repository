{
 "cells": [
  {
   "cell_type": "code",
   "execution_count": 2,
   "metadata": {},
   "outputs": [
    {
     "name": "stdout",
     "output_type": "stream",
     "text": [
      "13\n"
     ]
    }
   ],
   "source": [
    "# Textbook: Principles and Practices of Machine Learning\n",
    "# Grade dataset (extended)\n",
    "# Author: Zhe Chen (ml_iot@163.com), 2021\n",
    "import pandas\n",
    "import matplotlib.pyplot as plt\n",
    "import numpy as np\n",
    "\n",
    "x_train = np.array([0, 5, 10, 25, 30, 35, 50, 51, 52, 53, 54, 55, 56, 57, 58, 59, 61, 62, 63, 64, 65, 66, 67, 68, 69, 70, 71, 72, 73]).reshape((1, -1))\n",
    "y_train = np.array([0, 0, 0, 1, 1, 1, 0, 0, 0, 0, 0, 0, 0, 0, 0, 0, 1, 1, 1, 1, 1, 1, 1, 1, 1, 1, 1, 1, 1]).reshape((1, -1))\n",
    "m_train = x_train.size # number of training examples\n",
    "\n",
    "\n",
    "\n",
    "d=np.shape(x_train)[1]\n",
    "x_mean=np.mean(x_train,axis=1)\n",
    "x_std=np.std(x_train,ddof=1)\n",
    "x_train=(x_train-x_mean)/x_std\n",
    "w=0\n",
    "b=0\n",
    "v=np.ones((d,1))\n",
    "learning_rate=0.1\n",
    "iteration=20\n",
    "cost_saved=[]\n",
    "\n",
    "for i in range(iteration):\n",
    "    z=w*x_train+b\n",
    "    y_hat=1./(1+np.exp(-z)) \n",
    "    y_hat_ba=1-y_hat   \n",
    "    y_train_ba=1-y_train\n",
    "    e=y_hat-y_train\n",
    "    w=w-2*learning_rate*np.dot(x_train,e.T)/m_train\n",
    "    b=b-2*learning_rate*np.dot(e,v)/m_train\n",
    "    cost=-(np.dot(np.log(y_hat),y_train.T)+np.dot(np.log(y_hat_ba),y_train_ba.T))/m_train\n",
    "    cost_saved.append(cost.item(0))\n",
    "\n",
    "y_hat=y_hat>0.5\n",
    "errors=np.sum(np.abs(y_hat-y_train))\n",
    "print(errors)\n"
   ]
  }
 ],
 "metadata": {
  "kernelspec": {
   "display_name": "Python 3.10.4 64-bit",
   "language": "python",
   "name": "python3"
  },
  "language_info": {
   "codemirror_mode": {
    "name": "ipython",
    "version": 3
   },
   "file_extension": ".py",
   "mimetype": "text/x-python",
   "name": "python",
   "nbconvert_exporter": "python",
   "pygments_lexer": "ipython3",
   "version": "3.10.4"
  },
  "vscode": {
   "interpreter": {
    "hash": "4427aa4675692e3fe9bd7f53bad25d4adbcf00d19d908098b8576cd166a1ee56"
   }
  }
 },
 "nbformat": 4,
 "nbformat_minor": 4
}
