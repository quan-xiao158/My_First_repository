{
 "cells": [
  {
   "cell_type": "code",
   "execution_count": null,
   "metadata": {},
   "outputs": [],
   "source": [
    "import numpy as np\n",
    "import matplotlib.pyplot as plt\n",
    "x=np.linspace(-5,5,1000)\n",
    "y1=abs(2*x-1)\n",
    "y2=abs(2*x+1)\n",
    "y3=0.5*y1+0.3*y2\n",
    "plt.figure()\n",
    "plt.plot(y1)\n",
    "plt.plot(y2)\n",
    "plt.plot(y3)\n",
    "plt.show()"
   ]
  }
 ],
 "metadata": {
  "kernelspec": {
   "display_name": "Python 3.10.4 64-bit",
   "language": "python",
   "name": "python3"
  },
  "language_info": {
   "name": "python",
   "version": "3.10.4"
  },
  "orig_nbformat": 4,
  "vscode": {
   "interpreter": {
    "hash": "4427aa4675692e3fe9bd7f53bad25d4adbcf00d19d908098b8576cd166a1ee56"
   }
  }
 },
 "nbformat": 4,
 "nbformat_minor": 2
}
