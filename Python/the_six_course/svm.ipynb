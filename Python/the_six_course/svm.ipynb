{
 "cells": [
  {
   "cell_type": "code",
   "execution_count": 34,
   "metadata": {},
   "outputs": [
    {
     "name": "stdout",
     "output_type": "stream",
     "text": [
      "C=10,rbf：3(2+1)\n"
     ]
    }
   ],
   "source": [
    "import pandas\n",
    "import numpy as np\n",
    "import matplotlib.pyplot as plt\n",
    "from sklearn import svm\n",
    "\n",
    "\n",
    "m_train=250\n",
    "svm_c=10\n",
    "svm_kernel='rbf'\n",
    "\n",
    "df=pandas.read_csv('alcohol_dataset.csv')\n",
    "data=np.array(df)\n",
    "m_all=np.shape(data)[0]\n",
    "d=np.shape(data)[1]-1\n",
    "m_test=m_all-m_train\n",
    "data[:,d]=np.where(data[:,d]==0,-1,data[:,d])\n",
    "\n",
    "x_mean=np.mean(data[:,:d],axis=0)\n",
    "x_std=np.std(data[:,:d],axis=0,ddof=0)\n",
    "data[:,:d]=(data[:,:d]-x_mean)/x_std\n",
    "rng=np.random.default_rng(1)\n",
    "rng.shuffle(data,axis=0)\n",
    "x_train=data[:m_train,:d]\n",
    "x_test=data[m_train:,:d]\n",
    "y_train=data[:m_train,d]\n",
    "y_test=data[m_train:,d]\n",
    "\n",
    "clf=svm.SVC(kernel=svm_kernel,C=svm_c)\n",
    "clf.fit(x_train,y_train)\n",
    "y_train_hat=clf.predict(x_train)\n",
    "y_test_hat=clf.predict(x_test)\n",
    "train_false=np.sum(y_train!=y_train_hat)\n",
    "test_false=np.sum(y_test_hat!=y_test)\n",
    "print('C={},{}：{}({}+{})'.format(svm_c,svm_kernel,test_false+train_false,test_false,train_false))\n"
   ]
  },
  {
   "cell_type": "code",
   "execution_count": null,
   "metadata": {},
   "outputs": [],
   "source": []
  }
 ],
 "metadata": {
  "kernelspec": {
   "display_name": "Python 3.10.4 64-bit",
   "language": "python",
   "name": "python3"
  },
  "language_info": {
   "codemirror_mode": {
    "name": "ipython",
    "version": 3
   },
   "file_extension": ".py",
   "mimetype": "text/x-python",
   "name": "python",
   "nbconvert_exporter": "python",
   "pygments_lexer": "ipython3",
   "version": "3.10.4"
  },
  "orig_nbformat": 4,
  "vscode": {
   "interpreter": {
    "hash": "4427aa4675692e3fe9bd7f53bad25d4adbcf00d19d908098b8576cd166a1ee56"
   }
  }
 },
 "nbformat": 4,
 "nbformat_minor": 2
}
