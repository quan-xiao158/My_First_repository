{
 "cells": [
  {
   "cell_type": "code",
   "execution_count": 1,
   "metadata": {
    "scrolled": false
   },
   "outputs": [
    {
     "name": "stdout",
     "output_type": "stream",
     "text": [
      "291\n"
     ]
    },
    {
     "name": "stderr",
     "output_type": "stream",
     "text": [
      "C:\\Users\\ASUS\\AppData\\Local\\Temp\\ipykernel_15056\\3139142303.py:37: FutureWarning: Unlike other reduction functions (e.g. `skew`, `kurtosis`), the default behavior of `mode` typically preserves the axis it acts along. In SciPy 1.11.0, this behavior will change: the default value of `keepdims` will become False, the `axis` over which the statistic is taken will be eliminated, and the value None will no longer be accepted. Set `keepdims` to True or False to avoid this warning.\n",
      "  y_hat=stats.mode(k_lable).mode[0]\n"
     ]
    }
   ],
   "source": [
    "# Textbook: Principles and Practices of Machine Learning\n",
    "# Wheelchair dataset\n",
    "# Author: Zhe Chen (ml_iot@163.com), 2021\n",
    "\n",
    "from cProfile import label\n",
    "import pandas\n",
    "import numpy as np\n",
    "from scipy import stats\n",
    "#设置参数\n",
    "knn_k_max=20\n",
    "# load dataset\n",
    "df = pandas.read_csv('wheelchair_dataset.csv')\n",
    "data = np.array(df,dtype=float)\n",
    "\n",
    "m_all=np.shape(data)[0]\n",
    "m_train=m_all\n",
    "d=np.shape(data)[1]-1\n",
    "classes=np.amax(data[:,d])\n",
    "\n",
    "rng=np.random.default_rng(1)\n",
    "rng.shuffle(data)\n",
    "#最大最小值归一化\n",
    "x_min=np.amin(data[:,:d],axis=0)\n",
    "x_max=np.amax(data[:,:d],axis=0)\n",
    "data[:,:d]=(data[:,:d]-x_min)/(x_max-x_min)\n",
    "train_errors=np.zeros(knn_k_max)\n",
    "\n",
    "count=0\n",
    "for i in range(m_train):\n",
    "    x=data[i,:d].reshape((1,-1))\n",
    "    y=data[i,d]\n",
    "    diff=x-data[:,:d]\n",
    "    dist=np.sum(diff*diff,axis=1)\n",
    "    sorted_index=np.argsort(dist)\n",
    "    k_index=sorted_index[0:knn_k_max]\n",
    "    k_lable=data[k_index,d]\n",
    "    y_hat=stats.mode(k_lable).mode[0]\n",
    "    if y_hat==y:\n",
    "        count+=1\n",
    "print(count)\n",
    "\n",
    "\n",
    "\n",
    "\n",
    "\n",
    "\n"
   ]
  }
 ],
 "metadata": {
  "kernelspec": {
   "display_name": "Python 3.10.4 64-bit",
   "language": "python",
   "name": "python3"
  },
  "language_info": {
   "codemirror_mode": {
    "name": "ipython",
    "version": 3
   },
   "file_extension": ".py",
   "mimetype": "text/x-python",
   "name": "python",
   "nbconvert_exporter": "python",
   "pygments_lexer": "ipython3",
   "version": "3.10.4"
  },
  "vscode": {
   "interpreter": {
    "hash": "4427aa4675692e3fe9bd7f53bad25d4adbcf00d19d908098b8576cd166a1ee56"
   }
  }
 },
 "nbformat": 4,
 "nbformat_minor": 4
}
