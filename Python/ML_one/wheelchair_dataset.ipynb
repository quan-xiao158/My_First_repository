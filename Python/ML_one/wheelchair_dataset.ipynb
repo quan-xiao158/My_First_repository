{
 "cells": [
  {
   "cell_type": "code",
   "execution_count": 1,
   "metadata": {
    "scrolled": false
   },
   "outputs": [],
   "source": [
    "# Textbook: Principles and Practices of Machine Learning\n",
    "# Wheelchair dataset\n",
    "# Author: Zhe Chen (ml_iot@163.com), 2021\n",
    "\n",
    "import pandas\n",
    "import numpy as np\n",
    "\n",
    "# load dataset\n",
    "df = pandas.read_csv('wheelchair_dataset.csv')\n",
    "data = np.array(df)\n"
   ]
  }
 ],
 "metadata": {
  "kernelspec": {
   "display_name": "Python 3",
   "language": "python",
   "name": "python3"
  },
  "language_info": {
   "codemirror_mode": {
    "name": "ipython",
    "version": 3
   },
   "file_extension": ".py",
   "mimetype": "text/x-python",
   "name": "python",
   "nbconvert_exporter": "python",
   "pygments_lexer": "ipython3",
   "version": "3.8.5"
  }
 },
 "nbformat": 4,
 "nbformat_minor": 4
}
