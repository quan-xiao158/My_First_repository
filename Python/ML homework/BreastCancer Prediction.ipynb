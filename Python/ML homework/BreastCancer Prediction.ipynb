{
 "cells": [
  {
   "cell_type": "code",
   "execution_count": 1,
   "metadata": {},
   "outputs": [
    {
     "name": "stdout",
     "output_type": "stream",
     "text": [
      "训练集分类预测\n",
      "分类错误个数： 26\n",
      "TP:183,FP:12,TN:291,FN:14\n",
      "recall:0.929,precision:0.938,f1:0.934\n",
      "测试集分类预测\n",
      "分类错误个数： 2\n",
      "TP:44,FP:2,TN:153,FN:0\n",
      "recall:1.0,precision:0.957,f1:0.978\n"
     ]
    },
    {
     "data": {
      "image/png": "[encoded data removed]",
      "text/plain": [
       "<Figure size 640x480 with 1 Axes>"
      ]
     },
     "metadata": {},
     "output_type": "display_data"
    }
   ],
   "source": [
    "import numpy as np\n",
    "import matplotlib.pyplot as plt\n",
    "import pandas\n",
    "#特征缩放\n",
    "def Feature_scaling(data,d):#data：数据集,d：维度\n",
    "    x_mean=np.mean(data[:,:d],axis=0)\n",
    "    x_std=np.std(data[:,:d],axis=0,ddof=1)\n",
    "    data[:,:d]=(data[:,:d]-x_mean)/x_std\n",
    "#划分数据集\n",
    "def split_dataset(data,m_train,m_all,d):#dada：数据集，m_train:训练集大小,m_all：数据集大小，d：维度\n",
    "    x_train=data[:m_train,:d].T\n",
    "    y_train=data[:m_train,d].reshape(1,-1)\n",
    "    x_test=data[m_train:,:d].T\n",
    "    y_test=data[m_train:,d].reshape(1,-1)\n",
    "    train_set=data[:m_train,:]\n",
    "    return x_train,y_train,x_test,y_test,train_set\n",
    "#对数据进行训练\n",
    "def Train(iteration,learning_rate,batch_size,train_set):#iteration：迭代次数,learning_rate：学习率,batch_size：批长,train_set：训练集\n",
    "    rng=np.random.default_rng(1)\n",
    "    w=np.zeros((1,d)).reshape(-1,1)\n",
    "    b=0\n",
    "    cost_save=[]\n",
    "    for i in range(iteration):\n",
    "        rng.shuffle(train_set)\n",
    "        for start_sample in range(0,m_train,batch_size):\n",
    "            batch_sample=min([batch_size,m_train-start_sample])\n",
    "            v=np.ones((1,batch_sample)).reshape(1,-1)\n",
    "            X=train_set[start_sample:batch_sample+start_sample,:d].T\n",
    "            Y=train_set[start_sample:batch_sample+start_sample,d].T\n",
    "            z=np.dot(w.T,X)+b\n",
    "            y_hat=1./(1+np.exp(-z)) \n",
    "            y_hat_ba=1-y_hat   \n",
    "            y_train_ba=1-Y\n",
    "            e=y_hat-Y\n",
    "            w=w-learning_rate*np.dot(X,e.T)/batch_size\n",
    "            b=b-learning_rate*np.dot(v,e.T)/batch_size\n",
    "            cost=-(np.dot(np.log(y_hat),Y.T)+np.dot(np.log(y_hat_ba),y_train_ba.T))/batch_size\n",
    "            '''cost值域为0-2'''\n",
    "            cost_save.append(cost.item(0))\n",
    "    return w,b,cost_save\n",
    "#对数据集预测\n",
    "def Prediction(w,b,x,y,m_train):#w：权重，b：偏移，x：特征输入，y：实际结果，m_train：输入的长度\n",
    "    z=(np.dot(w.T,x)+b)\n",
    "    y_hat=1/(1+np.exp(-z))\n",
    "    z=z>=0\n",
    "    errors=np.sum(np.abs(z-y))\n",
    "    print(\"分类错误个数：\",errors.astype(int))\n",
    "    FP=np.sum(np.logical_and(y==0,z==1))\n",
    "    TP=np.sum(np.logical_and(y==1,z==1))\n",
    "    TN=np.sum(np.logical_and(y==0,z==0))\n",
    "    FN=np.sum(np.logical_and(y==1,z==0))\n",
    "    print(f'TP:{TP},FP:{FP},TN:{TN},FN:{FN}')\n",
    "    recall=TP/(TP+FN)\n",
    "    precision=TP/(TP+FP)\n",
    "    f1=2*recall*precision/(recall+precision)\n",
    "    print(f'recall:{recall:.3},precision:{precision:.3},f1:{f1:.3}')\n",
    "#导入数据\n",
    "df=pandas.read_csv('breastCancer.csv')\n",
    "df=df.drop(labels='bare_nucleoli' ,axis=1)#删掉标签名为bare_nucleoli的列，此列有脏数据\n",
    "df=df.drop(labels='id' ,axis=1)#删掉标签名为id的一列，此列没有用处\n",
    "data=np.array(df,dtype = float)\n",
    "m_all=np.shape(data)[0]#计算出数据样本总数\n",
    "d=np.shape(data)[1]-1#计算出维度\n",
    "\n",
    "#特征缩放\n",
    "Feature_scaling(data,d)\n",
    "#设定参数\n",
    "m_train=500\n",
    "m_test=m_all-m_train\n",
    "iteration=500\n",
    "learning_rate=0.1\n",
    "batch_size=m_train\n",
    "\n",
    "x_train,y_train,x_test,y_test,train_set=split_dataset(data,m_train,m_all,d)#划分数据集\n",
    "w,b,cost_saved=Train(iteration,learning_rate,batch_size,train_set=train_set)#训练参数\n",
    "print('训练集分类预测')\n",
    "Prediction(w,b,x_train,y_train,m_train)#训练集分类预测\n",
    "print('测试集分类预测')\n",
    "Prediction(w,b,x_test,y_test,m_test)#测试集分类预测\n",
    "\n",
    "plt.ylabel('Costs')\n",
    "plt.xlabel('Iterations')\n",
    "plt.title('Learning rate = ' + str(learning_rate))\n",
    "plt.plot(range(1,len(cost_saved)+1),cost_saved,'r')\n",
    "plt.show()\n",
    "\n"
   ]
  }
 ],
 "metadata": {
  "kernelspec": {
   "display_name": "Python 3.10.4 64-bit",
   "language": "python",
   "name": "python3"
  },
  "language_info": {
   "codemirror_mode": {
    "name": "ipython",
    "version": 3
   },
   "file_extension": ".py",
   "mimetype": "text/x-python",
   "name": "python",
   "nbconvert_exporter": "python",
   "pygments_lexer": "ipython3",
   "version": "3.10.4"
  },
  "orig_nbformat": 4,
  "vscode": {
   "interpreter": {
    "hash": "4427aa4675692e3fe9bd7f53bad25d4adbcf00d19d908098b8576cd166a1ee56"
   }
  }
 },
 "nbformat": 4,
 "nbformat_minor": 2
}
